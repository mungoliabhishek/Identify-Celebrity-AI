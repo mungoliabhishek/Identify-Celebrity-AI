{
 "cells": [
  {
   "cell_type": "code",
   "execution_count": 4,
   "metadata": {},
   "outputs": [
    {
     "name": "stdout",
     "output_type": "stream",
     "text": [
      "/kaggle/input/sound-model/stage-sound2.pth\n",
      "/kaggle/input/sound-test3/Playlist_Test_Spectogram/Amir_spectogram/fwpaxgrz.png\n",
      "/kaggle/input/sound-test3/Playlist_Test_Spectogram/Amir_spectogram/fsbjgveg.png\n",
      "/kaggle/input/sound-test3/Playlist_Test_Spectogram/Amir_spectogram/hdshjhuf.png\n",
      "/kaggle/input/sound-test3/Playlist_Test_Spectogram/Amir_spectogram/gnmqmwmx.png\n",
      "/kaggle/input/sound-test3/Playlist_Test_Spectogram/Amir_spectogram/adosednd.png\n",
      "/kaggle/input/sound-test3/Playlist_Test_Spectogram/Amir_spectogram/crpdavon.png\n",
      "/kaggle/input/sound-test3/Playlist_Test_Spectogram/Akshay_spectogram/usgrcggb.png\n",
      "/kaggle/input/sound-test3/Playlist_Test_Spectogram/Akshay_spectogram/aqsftlag.png\n",
      "/kaggle/input/sound-test3/Playlist_Test_Spectogram/Akshay_spectogram/alcgsfbi.png\n",
      "/kaggle/input/sound-test3/Playlist_Test_Spectogram/Akshay_spectogram/nrfrftpi.png\n",
      "/kaggle/input/sound-test3/Playlist_Test_Spectogram/Akshay_spectogram/llexivju.png\n",
      "/kaggle/input/sound-test3/Playlist_Test_Spectogram/Akshay_spectogram/plokrlom.png\n",
      "/kaggle/input/sound-test3/Playlist_Test_Spectogram/Akshay_spectogram/zzjpvhxk.png\n",
      "/kaggle/input/sound-test3/Playlist_Test_Spectogram/Akshay_spectogram/hickjqhg.png\n",
      "/kaggle/input/sound-test3/Playlist_Test_Spectogram/Salman_spectogram/grdvdpym.png\n",
      "/kaggle/input/sound-test3/Playlist_Test_Spectogram/Salman_spectogram/wtombhjd.png\n",
      "/kaggle/input/sound-test3/Playlist_Test_Spectogram/Salman_spectogram/qhwhiygq.png\n",
      "/kaggle/input/sound-test3/Playlist_Test_Spectogram/Salman_spectogram/qnxrmqvg.png\n",
      "/kaggle/input/sound-test3/Playlist_Test_Spectogram/Salman_spectogram/bzvpbmcs.png\n",
      "/kaggle/input/sound-test3/Playlist_Test_Spectogram/Salman_spectogram/sizqjwbm.png\n",
      "/kaggle/input/sound-test3/Playlist_Test_Spectogram/Salman_spectogram/wrxeznnr.png\n",
      "/kaggle/input/sound-test3/Playlist_Test_Spectogram/Salman_spectogram/glajkikx.png\n",
      "/kaggle/input/sound-test3/Playlist_Test_Spectogram/Salman_spectogram/xuexvxrm.png\n",
      "/kaggle/input/sound-test3/Playlist_Test_Spectogram/Salman_spectogram/xcvybdsi.png\n",
      "/kaggle/input/sound-test3/Playlist_Test_Spectogram/Salman_spectogram/gwsnkyxy.png\n",
      "/kaggle/input/sound-test3/Playlist_Test_Spectogram/Modi_spectogram/uqgnxdcu.png\n",
      "/kaggle/input/sound-test3/Playlist_Test_Spectogram/Modi_spectogram/ncedufcr.png\n",
      "/kaggle/input/sound-test3/Playlist_Test_Spectogram/Modi_spectogram/jbmudjjq.png\n",
      "/kaggle/input/sound-test3/Playlist_Test_Spectogram/Modi_spectogram/shyiigne.png\n",
      "/kaggle/input/sound-test3/Playlist_Test_Spectogram/Modi_spectogram/aqvanmgc.png\n",
      "/kaggle/input/sound-test3/Playlist_Test_Spectogram/Modi_spectogram/rquizgqi.png\n",
      "/kaggle/input/sound-test3/Playlist_Test_Spectogram/Modi_spectogram/pjpgdrrj.png\n",
      "/kaggle/input/sound-test3/Playlist_Test_Spectogram/Modi_spectogram/stdkovtc.png\n",
      "/kaggle/input/sound-test3/Playlist_Test_Spectogram/Srk_spectogram/mynztkcb.png\n",
      "/kaggle/input/sound-test3/Playlist_Test_Spectogram/Srk_spectogram/kdrcwtea.png\n",
      "/kaggle/input/sound-test3/Playlist_Test_Spectogram/Srk_spectogram/cenfygvv.png\n",
      "/kaggle/input/sound-test3/Playlist_Test_Spectogram/Srk_spectogram/xhmjchkw.png\n",
      "/kaggle/input/sound-test3/Playlist_Test_Spectogram/Srk_spectogram/llcgmngi.png\n",
      "/kaggle/input/sound-test3/Playlist_Test_Spectogram/Srk_spectogram/wkuwuleb.png\n",
      "/kaggle/input/sound-test3/Playlist_Test_Spectogram/Srk_spectogram/nwxwibbu.png\n",
      "/kaggle/input/sound-test3/Playlist_Test_Spectogram/Srk_spectogram/nlbbqrqk.png\n",
      "/kaggle/input/sound-test3/Playlist_Test_Spectogram/Srk_spectogram/pjeimodz.png\n",
      "/kaggle/input/sound-test3/Playlist_Test_Spectogram/Srk_spectogram/rdlfglbr.png\n",
      "/kaggle/input/spectogramvalidate/Playlist_old_Spectogram/Amir_spectogram/pcfjwtmp.png\n",
      "/kaggle/input/spectogramvalidate/Playlist_old_Spectogram/Amir_spectogram/jhjjejei.png\n",
      "/kaggle/input/spectogramvalidate/Playlist_old_Spectogram/Amir_spectogram/kfgsgxzd.png\n",
      "/kaggle/input/spectogramvalidate/Playlist_old_Spectogram/Amir_spectogram/muirztnj.png\n",
      "/kaggle/input/spectogramvalidate/Playlist_old_Spectogram/Amir_spectogram/ecyfwyjm.png\n",
      "/kaggle/input/spectogramvalidate/Playlist_old_Spectogram/Amir_spectogram/kjfsohkg.png\n",
      "/kaggle/input/spectogramvalidate/Playlist_old_Spectogram/Amir_spectogram/mscjepgi.png\n",
      "/kaggle/input/spectogramvalidate/Playlist_old_Spectogram/Akshay_spectogram/lggknwjx.png\n",
      "/kaggle/input/spectogramvalidate/Playlist_old_Spectogram/Akshay_spectogram/fwtzbawb.png\n",
      "/kaggle/input/spectogramvalidate/Playlist_old_Spectogram/Akshay_spectogram/skvtlofq.png\n",
      "/kaggle/input/spectogramvalidate/Playlist_old_Spectogram/Akshay_spectogram/odapapna.png\n",
      "/kaggle/input/spectogramvalidate/Playlist_old_Spectogram/Akshay_spectogram/cmjbexgi.png\n",
      "/kaggle/input/spectogramvalidate/Playlist_old_Spectogram/Akshay_spectogram/ghyvhuxy.png\n",
      "/kaggle/input/spectogramvalidate/Playlist_old_Spectogram/Akshay_spectogram/wjkyczji.png\n",
      "/kaggle/input/spectogramvalidate/Playlist_old_Spectogram/Akshay_spectogram/lvttubvd.png\n",
      "/kaggle/input/spectogramvalidate/Playlist_old_Spectogram/Salman_spectogram/wrnsldli.png\n",
      "/kaggle/input/spectogramvalidate/Playlist_old_Spectogram/Salman_spectogram/hnltwszs.png\n",
      "/kaggle/input/spectogramvalidate/Playlist_old_Spectogram/Salman_spectogram/drwnuhst.png\n",
      "/kaggle/input/spectogramvalidate/Playlist_old_Spectogram/Salman_spectogram/rftgzzbu.png\n",
      "/kaggle/input/spectogramvalidate/Playlist_old_Spectogram/Salman_spectogram/isgtcbjm.png\n",
      "/kaggle/input/spectogramvalidate/Playlist_old_Spectogram/Modi_spectogram/wtxuvxtp.png\n",
      "/kaggle/input/spectogramvalidate/Playlist_old_Spectogram/Modi_spectogram/ucoxuyeb.png\n",
      "/kaggle/input/spectogramvalidate/Playlist_old_Spectogram/Modi_spectogram/jjtmoafw.png\n",
      "/kaggle/input/spectogramvalidate/Playlist_old_Spectogram/Srk_spectogram/lexrgmys.png\n",
      "/kaggle/input/spectogramvalidate/Playlist_old_Spectogram/Srk_spectogram/fubedhca.png\n",
      "/kaggle/input/spectogramvalidate/Playlist_old_Spectogram/Srk_spectogram/swopjyct.png\n",
      "/kaggle/input/spectogramvalidate/Playlist_old_Spectogram/Srk_spectogram/yokiwlfp.png\n",
      "/kaggle/input/spectogramvalidate/Playlist_old_Spectogram/Srk_spectogram/ryyolskm.png\n",
      "/kaggle/input/spectogramvalidate/Playlist_old_Spectogram/Srk_spectogram/rlutwhuc.png\n",
      "/kaggle/input/spectogram-train/Playlist_Spectogram/Amir_spectogram/wtqmwzzj.png\n",
      "/kaggle/input/spectogram-train/Playlist_Spectogram/Amir_spectogram/jlwbekeo.png\n",
      "/kaggle/input/spectogram-train/Playlist_Spectogram/Amir_spectogram/kitbzgrn.png\n",
      "/kaggle/input/spectogram-train/Playlist_Spectogram/Amir_spectogram/iearjewq.png\n",
      "/kaggle/input/spectogram-train/Playlist_Spectogram/Amir_spectogram/rlrzyocm.png\n",
      "/kaggle/input/spectogram-train/Playlist_Spectogram/Amir_spectogram/yyrrjetk.png\n",
      "/kaggle/input/spectogram-train/Playlist_Spectogram/Amir_spectogram/uzhypnjq.png\n",
      "/kaggle/input/spectogram-train/Playlist_Spectogram/Amir_spectogram/hkpttjjp.png\n",
      "/kaggle/input/spectogram-train/Playlist_Spectogram/Amir_spectogram/hpwbjwpu.png\n",
      "/kaggle/input/spectogram-train/Playlist_Spectogram/Amir_spectogram/flotshle.png\n",
      "/kaggle/input/spectogram-train/Playlist_Spectogram/Amir_spectogram/fjujzgnj.png\n",
      "/kaggle/input/spectogram-train/Playlist_Spectogram/Amir_spectogram/fpptzcol.png\n",
      "/kaggle/input/spectogram-train/Playlist_Spectogram/Amir_spectogram/pewamiql.png\n",
      "/kaggle/input/spectogram-train/Playlist_Spectogram/Amir_spectogram/wkxfycmu.png\n",
      "/kaggle/input/spectogram-train/Playlist_Spectogram/Amir_spectogram/dlohbbvp.png\n",
      "/kaggle/input/spectogram-train/Playlist_Spectogram/Amir_spectogram/ksshlgds.png\n",
      "/kaggle/input/spectogram-train/Playlist_Spectogram/Amir_spectogram/figifgxe.png\n",
      "/kaggle/input/spectogram-train/Playlist_Spectogram/Amir_spectogram/edsrsfcb.png\n",
      "/kaggle/input/spectogram-train/Playlist_Spectogram/Amir_spectogram/kvhqjjxn.png\n",
      "/kaggle/input/spectogram-train/Playlist_Spectogram/Amir_spectogram/ddnzkixy.png\n",
      "/kaggle/input/spectogram-train/Playlist_Spectogram/Amir_spectogram/suntpecw.png\n",
      "/kaggle/input/spectogram-train/Playlist_Spectogram/Amir_spectogram/fuwsdbva.png\n",
      "/kaggle/input/spectogram-train/Playlist_Spectogram/Amir_spectogram/rajywrmu.png\n",
      "/kaggle/input/spectogram-train/Playlist_Spectogram/Amir_spectogram/goqjtios.png\n",
      "/kaggle/input/spectogram-train/Playlist_Spectogram/Amir_spectogram/ikbxyzxe.png\n",
      "/kaggle/input/spectogram-train/Playlist_Spectogram/Amir_spectogram/hheshkoq.png\n",
      "/kaggle/input/spectogram-train/Playlist_Spectogram/Amir_spectogram/mjlmtmcf.png\n",
      "/kaggle/input/spectogram-train/Playlist_Spectogram/Akshay_spectogram/gfrnozic.png\n",
      "/kaggle/input/spectogram-train/Playlist_Spectogram/Akshay_spectogram/hvgizxjg.png\n",
      "/kaggle/input/spectogram-train/Playlist_Spectogram/Akshay_spectogram/lywsgbsf.png\n",
      "/kaggle/input/spectogram-train/Playlist_Spectogram/Akshay_spectogram/gzkgiajl.png\n",
      "/kaggle/input/spectogram-train/Playlist_Spectogram/Akshay_spectogram/jgrffwxh.png\n",
      "/kaggle/input/spectogram-train/Playlist_Spectogram/Akshay_spectogram/yuymiuez.png\n",
      "/kaggle/input/spectogram-train/Playlist_Spectogram/Akshay_spectogram/ylifhnyt.png\n",
      "/kaggle/input/spectogram-train/Playlist_Spectogram/Akshay_spectogram/pnfwpfqy.png\n",
      "/kaggle/input/spectogram-train/Playlist_Spectogram/Akshay_spectogram/tgskoybt.png\n",
      "/kaggle/input/spectogram-train/Playlist_Spectogram/Akshay_spectogram/ikmuzhzt.png\n",
      "/kaggle/input/spectogram-train/Playlist_Spectogram/Akshay_spectogram/wftwwong.png\n",
      "/kaggle/input/spectogram-train/Playlist_Spectogram/Akshay_spectogram/kcvbxosm.png\n",
      "/kaggle/input/spectogram-train/Playlist_Spectogram/Akshay_spectogram/nzrnmbgf.png\n",
      "/kaggle/input/spectogram-train/Playlist_Spectogram/Akshay_spectogram/swtxyvwd.png\n",
      "/kaggle/input/spectogram-train/Playlist_Spectogram/Akshay_spectogram/cwztosaz.png\n",
      "/kaggle/input/spectogram-train/Playlist_Spectogram/Akshay_spectogram/izthpuki.png\n",
      "/kaggle/input/spectogram-train/Playlist_Spectogram/Akshay_spectogram/qiycrjzr.png\n",
      "/kaggle/input/spectogram-train/Playlist_Spectogram/Akshay_spectogram/xrlbxash.png\n",
      "/kaggle/input/spectogram-train/Playlist_Spectogram/Akshay_spectogram/yzshybnb.png\n",
      "/kaggle/input/spectogram-train/Playlist_Spectogram/Akshay_spectogram/cbqvnmea.png\n",
      "/kaggle/input/spectogram-train/Playlist_Spectogram/Akshay_spectogram/nwnalmcj.png\n",
      "/kaggle/input/spectogram-train/Playlist_Spectogram/Akshay_spectogram/wzrzspip.png\n",
      "/kaggle/input/spectogram-train/Playlist_Spectogram/Akshay_spectogram/xsmalnup.png\n",
      "/kaggle/input/spectogram-train/Playlist_Spectogram/Akshay_spectogram/gnaibxrq.png\n",
      "/kaggle/input/spectogram-train/Playlist_Spectogram/Akshay_spectogram/hgszwffw.png\n",
      "/kaggle/input/spectogram-train/Playlist_Spectogram/Akshay_spectogram/zipncbet.png\n",
      "/kaggle/input/spectogram-train/Playlist_Spectogram/Akshay_spectogram/pkkquarf.png\n",
      "/kaggle/input/spectogram-train/Playlist_Spectogram/Akshay_spectogram/jfenboum.png\n",
      "/kaggle/input/spectogram-train/Playlist_Spectogram/Akshay_spectogram/giywwaqa.png\n",
      "/kaggle/input/spectogram-train/Playlist_Spectogram/Salman_spectogram/nzuftxhf.png\n",
      "/kaggle/input/spectogram-train/Playlist_Spectogram/Salman_spectogram/wlwrkttb.png\n",
      "/kaggle/input/spectogram-train/Playlist_Spectogram/Salman_spectogram/eqzejwzi.png\n",
      "/kaggle/input/spectogram-train/Playlist_Spectogram/Salman_spectogram/hapspwon.png\n",
      "/kaggle/input/spectogram-train/Playlist_Spectogram/Salman_spectogram/rjfuivsk.png\n",
      "/kaggle/input/spectogram-train/Playlist_Spectogram/Salman_spectogram/ehfgiukx.png\n",
      "/kaggle/input/spectogram-train/Playlist_Spectogram/Salman_spectogram/oqmhajdk.png\n",
      "/kaggle/input/spectogram-train/Playlist_Spectogram/Salman_spectogram/jgdsvqyn.png\n",
      "/kaggle/input/spectogram-train/Playlist_Spectogram/Salman_spectogram/arvnjzlf.png\n",
      "/kaggle/input/spectogram-train/Playlist_Spectogram/Salman_spectogram/pzpkjbnh.png\n",
      "/kaggle/input/spectogram-train/Playlist_Spectogram/Salman_spectogram/eiuzrvjc.png\n",
      "/kaggle/input/spectogram-train/Playlist_Spectogram/Salman_spectogram/wvzhlpss.png\n",
      "/kaggle/input/spectogram-train/Playlist_Spectogram/Salman_spectogram/apendydr.png\n",
      "/kaggle/input/spectogram-train/Playlist_Spectogram/Salman_spectogram/tdbhcvel.png\n",
      "/kaggle/input/spectogram-train/Playlist_Spectogram/Salman_spectogram/wgbzidkx.png\n",
      "/kaggle/input/spectogram-train/Playlist_Spectogram/Salman_spectogram/flhasdmd.png\n",
      "/kaggle/input/spectogram-train/Playlist_Spectogram/Salman_spectogram/ymujjrno.png\n",
      "/kaggle/input/spectogram-train/Playlist_Spectogram/Salman_spectogram/qkqrjjxt.png\n",
      "/kaggle/input/spectogram-train/Playlist_Spectogram/Salman_spectogram/vxggsgon.png\n",
      "/kaggle/input/spectogram-train/Playlist_Spectogram/Salman_spectogram/bxxbmcfy.png\n",
      "/kaggle/input/spectogram-train/Playlist_Spectogram/Salman_spectogram/ucuifffn.png\n",
      "/kaggle/input/spectogram-train/Playlist_Spectogram/Salman_spectogram/ecxcfepo.png\n",
      "/kaggle/input/spectogram-train/Playlist_Spectogram/Salman_spectogram/qgcwfhjb.png\n",
      "/kaggle/input/spectogram-train/Playlist_Spectogram/Salman_spectogram/afbpyiwc.png\n",
      "/kaggle/input/spectogram-train/Playlist_Spectogram/Salman_spectogram/zcswhvom.png\n",
      "/kaggle/input/spectogram-train/Playlist_Spectogram/Salman_spectogram/rfjwivpg.png\n",
      "/kaggle/input/spectogram-train/Playlist_Spectogram/Salman_spectogram/mzzuulmw.png\n",
      "/kaggle/input/spectogram-train/Playlist_Spectogram/Salman_spectogram/gkjtwzzd.png\n",
      "/kaggle/input/spectogram-train/Playlist_Spectogram/Salman_spectogram/dlwafziz.png\n",
      "/kaggle/input/spectogram-train/Playlist_Spectogram/Salman_spectogram/wjrdtqek.png\n",
      "/kaggle/input/spectogram-train/Playlist_Spectogram/Salman_spectogram/ofvkccll.png\n",
      "/kaggle/input/spectogram-train/Playlist_Spectogram/Salman_spectogram/ouujxglc.png\n",
      "/kaggle/input/spectogram-train/Playlist_Spectogram/Modi_spectogram/vzyorrga.png\n",
      "/kaggle/input/spectogram-train/Playlist_Spectogram/Modi_spectogram/oqnqtmyu.png\n",
      "/kaggle/input/spectogram-train/Playlist_Spectogram/Modi_spectogram/npjlapmp.png\n",
      "/kaggle/input/spectogram-train/Playlist_Spectogram/Modi_spectogram/sggjugoz.png\n",
      "/kaggle/input/spectogram-train/Playlist_Spectogram/Modi_spectogram/imkyetvj.png\n",
      "/kaggle/input/spectogram-train/Playlist_Spectogram/Modi_spectogram/mckncdir.png\n",
      "/kaggle/input/spectogram-train/Playlist_Spectogram/Modi_spectogram/gmpnmcsq.png\n",
      "/kaggle/input/spectogram-train/Playlist_Spectogram/Modi_spectogram/kjwvkdkj.png\n",
      "/kaggle/input/spectogram-train/Playlist_Spectogram/Modi_spectogram/johbjktd.png\n",
      "/kaggle/input/spectogram-train/Playlist_Spectogram/Modi_spectogram/xaxgtcva.png\n",
      "/kaggle/input/spectogram-train/Playlist_Spectogram/Modi_spectogram/eypmsscw.png\n",
      "/kaggle/input/spectogram-train/Playlist_Spectogram/Modi_spectogram/eocnpmqc.png\n",
      "/kaggle/input/spectogram-train/Playlist_Spectogram/Modi_spectogram/fufaweka.png\n",
      "/kaggle/input/spectogram-train/Playlist_Spectogram/Modi_spectogram/mdacifpi.png\n",
      "/kaggle/input/spectogram-train/Playlist_Spectogram/Modi_spectogram/zlzjggnv.png\n",
      "/kaggle/input/spectogram-train/Playlist_Spectogram/Modi_spectogram/bovcfgwa.png\n",
      "/kaggle/input/spectogram-train/Playlist_Spectogram/Modi_spectogram/slqtieug.png\n",
      "/kaggle/input/spectogram-train/Playlist_Spectogram/Modi_spectogram/ehrjzggh.png\n",
      "/kaggle/input/spectogram-train/Playlist_Spectogram/Modi_spectogram/emzksafw.png\n",
      "/kaggle/input/spectogram-train/Playlist_Spectogram/Modi_spectogram/umjjspfx.png\n",
      "/kaggle/input/spectogram-train/Playlist_Spectogram/Modi_spectogram/qktlvdyo.png\n",
      "/kaggle/input/spectogram-train/Playlist_Spectogram/Modi_spectogram/hhpsbioc.png\n",
      "/kaggle/input/spectogram-train/Playlist_Spectogram/Modi_spectogram/glmtncop.png\n",
      "/kaggle/input/spectogram-train/Playlist_Spectogram/Modi_spectogram/ovttmkor.png\n",
      "/kaggle/input/spectogram-train/Playlist_Spectogram/Modi_spectogram/lmxycnvq.png\n",
      "/kaggle/input/spectogram-train/Playlist_Spectogram/Modi_spectogram/ecafcqcg.png\n",
      "/kaggle/input/spectogram-train/Playlist_Spectogram/Modi_spectogram/uzcfanfd.png\n",
      "/kaggle/input/spectogram-train/Playlist_Spectogram/Modi_spectogram/nwrapqdy.png\n",
      "/kaggle/input/spectogram-train/Playlist_Spectogram/Modi_spectogram/prbwwatd.png\n",
      "/kaggle/input/spectogram-train/Playlist_Spectogram/Modi_spectogram/cuejbszg.png\n",
      "/kaggle/input/spectogram-train/Playlist_Spectogram/Modi_spectogram/clvdyhmm.png\n",
      "/kaggle/input/spectogram-train/Playlist_Spectogram/Srk_spectogram/fnduzwpb.png\n",
      "/kaggle/input/spectogram-train/Playlist_Spectogram/Srk_spectogram/vlmqeeeu.png\n",
      "/kaggle/input/spectogram-train/Playlist_Spectogram/Srk_spectogram/fxleqfzp.png\n",
      "/kaggle/input/spectogram-train/Playlist_Spectogram/Srk_spectogram/rcpktefy.png\n",
      "/kaggle/input/spectogram-train/Playlist_Spectogram/Srk_spectogram/lmowxylm.png\n",
      "/kaggle/input/spectogram-train/Playlist_Spectogram/Srk_spectogram/ryvabtsc.png\n",
      "/kaggle/input/spectogram-train/Playlist_Spectogram/Srk_spectogram/jenvivzj.png\n",
      "/kaggle/input/spectogram-train/Playlist_Spectogram/Srk_spectogram/auuystwd.png\n",
      "/kaggle/input/spectogram-train/Playlist_Spectogram/Srk_spectogram/rhdwcfhu.png\n",
      "/kaggle/input/spectogram-train/Playlist_Spectogram/Srk_spectogram/mcolkhot.png\n",
      "/kaggle/input/spectogram-train/Playlist_Spectogram/Srk_spectogram/bdwbcfkt.png\n",
      "/kaggle/input/spectogram-train/Playlist_Spectogram/Srk_spectogram/myzakogn.png\n",
      "/kaggle/input/spectogram-train/Playlist_Spectogram/Srk_spectogram/qcmovezm.png\n",
      "/kaggle/input/spectogram-train/Playlist_Spectogram/Srk_spectogram/dsmyyhlc.png\n",
      "/kaggle/input/spectogram-train/Playlist_Spectogram/Srk_spectogram/qzbzbfnc.png\n",
      "/kaggle/input/spectogram-train/Playlist_Spectogram/Srk_spectogram/hljkviwd.png\n",
      "/kaggle/input/spectogram-train/Playlist_Spectogram/Srk_spectogram/xcipcwnx.png\n",
      "/kaggle/input/spectogram-train/Playlist_Spectogram/Srk_spectogram/vytxbkel.png\n",
      "/kaggle/input/spectogram-train/Playlist_Spectogram/Srk_spectogram/kloryozc.png\n",
      "/kaggle/input/spectogram-train/Playlist_Spectogram/Srk_spectogram/zpvoeurm.png\n",
      "/kaggle/input/spectogram-train/Playlist_Spectogram/Srk_spectogram/ebchqnob.png\n",
      "/kaggle/input/spectogram-train/Playlist_Spectogram/Srk_spectogram/jjnmmhur.png\n",
      "/kaggle/input/spectogram-train/Playlist_Spectogram/Srk_spectogram/tnduxpyy.png\n",
      "/kaggle/input/spectogram-train/Playlist_Spectogram/Srk_spectogram/sbtvvzcq.png\n",
      "/kaggle/input/spectogram-train/Playlist_Spectogram/Srk_spectogram/wsxhtxsq.png\n",
      "/kaggle/input/spectogram-train/Playlist_Spectogram/Srk_spectogram/xqyfiatr.png\n",
      "/kaggle/input/spectogram-train/Playlist_Spectogram/Srk_spectogram/myftknjm.png\n",
      "/kaggle/input/spectogram-train/Playlist_Spectogram/Srk_spectogram/nakygidh.png\n",
      "/kaggle/input/spectogram-train/Playlist_Spectogram/Srk_spectogram/rydgjpnd.png\n",
      "/kaggle/input/spectogram-train/Playlist_Spectogram/Srk_spectogram/hlkrrolh.png\n",
      "/kaggle/input/spectogram-train/Playlist_Spectogram/Srk_spectogram/fysdtcnm.png\n",
      "/kaggle/input/spectogram-train/Playlist_Spectogram/Srk_spectogram/hwcoltmz.png\n",
      "/kaggle/input/spectogram-train/Playlist_Spectogram/Srk_spectogram/kfoiggcm.png\n",
      "/kaggle/input/spectogram-train/Playlist_Spectogram/Srk_spectogram/strlnyrt.png\n",
      "/kaggle/input/spectogram-train/Playlist_Spectogram/Srk_spectogram/brpyamzf.png\n",
      "/kaggle/input/spectogram-train/Playlist_Spectogram/Srk_spectogram/fmylmrfp.png\n",
      "/kaggle/input/spectogram-train/Playlist_Spectogram/Srk_spectogram/vukvbuou.png\n",
      "/kaggle/input/sound-model-unfreezed/stage-sound-unfreezed.pth\n",
      "/kaggle/input/sound-train-extended2/Playlist_Extended_Spectogram/Amir_spectogram/vdpkzypy.png\n",
      "/kaggle/input/sound-train-extended2/Playlist_Extended_Spectogram/Amir_spectogram/inpafehm.png\n",
      "/kaggle/input/sound-train-extended2/Playlist_Extended_Spectogram/Amir_spectogram/agjsyrwh.png\n",
      "/kaggle/input/sound-train-extended2/Playlist_Extended_Spectogram/Amir_spectogram/askfsitl.png\n",
      "/kaggle/input/sound-train-extended2/Playlist_Extended_Spectogram/Amir_spectogram/xhdvpglw.png\n",
      "/kaggle/input/sound-train-extended2/Playlist_Extended_Spectogram/Amir_spectogram/uzxoobtd.png\n",
      "/kaggle/input/sound-train-extended2/Playlist_Extended_Spectogram/Amir_spectogram/pvewthkk.png\n",
      "/kaggle/input/sound-train-extended2/Playlist_Extended_Spectogram/Amir_spectogram/dpdhmkzr.png\n",
      "/kaggle/input/sound-train-extended2/Playlist_Extended_Spectogram/Amir_spectogram/xkcecnid.png\n",
      "/kaggle/input/sound-train-extended2/Playlist_Extended_Spectogram/Amir_spectogram/irgluzdt.png\n",
      "/kaggle/input/sound-train-extended2/Playlist_Extended_Spectogram/Amir_spectogram/cmgkgomb.png\n",
      "/kaggle/input/sound-train-extended2/Playlist_Extended_Spectogram/Amir_spectogram/hkxjhcts.png\n",
      "/kaggle/input/sound-train-extended2/Playlist_Extended_Spectogram/Amir_spectogram/czdmowos.png\n",
      "/kaggle/input/sound-train-extended2/Playlist_Extended_Spectogram/Amir_spectogram/aazfhrkj.png\n",
      "/kaggle/input/sound-train-extended2/Playlist_Extended_Spectogram/Amir_spectogram/yqfmffxp.png\n",
      "/kaggle/input/sound-train-extended2/Playlist_Extended_Spectogram/Amir_spectogram/dsmuewok.png\n",
      "/kaggle/input/sound-train-extended2/Playlist_Extended_Spectogram/Amir_spectogram/wglmwtgo.png\n",
      "/kaggle/input/sound-train-extended2/Playlist_Extended_Spectogram/Amir_spectogram/ezqenmnh.png\n",
      "/kaggle/input/sound-train-extended2/Playlist_Extended_Spectogram/Amir_spectogram/qwqvkhht.png\n",
      "/kaggle/input/sound-train-extended2/Playlist_Extended_Spectogram/Amir_spectogram/ygoeygyx.png\n",
      "/kaggle/input/sound-train-extended2/Playlist_Extended_Spectogram/Amir_spectogram/jgsecasx.png\n",
      "/kaggle/input/sound-train-extended2/Playlist_Extended_Spectogram/Amir_spectogram/cvyolrpu.png\n",
      "/kaggle/input/sound-train-extended2/Playlist_Extended_Spectogram/Amir_spectogram/qkwkejex.png\n",
      "/kaggle/input/sound-train-extended2/Playlist_Extended_Spectogram/Amir_spectogram/ghibeerm.png\n",
      "/kaggle/input/sound-train-extended2/Playlist_Extended_Spectogram/Amir_spectogram/ynslpped.png\n",
      "/kaggle/input/sound-train-extended2/Playlist_Extended_Spectogram/Amir_spectogram/pfciapew.png\n",
      "/kaggle/input/sound-train-extended2/Playlist_Extended_Spectogram/Amir_spectogram/ueoikpgc.png\n",
      "/kaggle/input/sound-train-extended2/Playlist_Extended_Spectogram/Amir_spectogram/unyasguf.png\n",
      "/kaggle/input/sound-train-extended2/Playlist_Extended_Spectogram/Amir_spectogram/tixwolax.png\n",
      "/kaggle/input/sound-train-extended2/Playlist_Extended_Spectogram/Amir_spectogram/ekzwoafv.png\n",
      "/kaggle/input/sound-train-extended2/Playlist_Extended_Spectogram/Amir_spectogram/qvbsmwoq.png\n",
      "/kaggle/input/sound-train-extended2/Playlist_Extended_Spectogram/Amir_spectogram/xdmhniod.png\n",
      "/kaggle/input/sound-train-extended2/Playlist_Extended_Spectogram/Amir_spectogram/urnuqoov.png\n",
      "/kaggle/input/sound-train-extended2/Playlist_Extended_Spectogram/Amir_spectogram/znfgcooe.png\n",
      "/kaggle/input/sound-train-extended2/Playlist_Extended_Spectogram/Amir_spectogram/ugwkrywg.png\n",
      "/kaggle/input/sound-train-extended2/Playlist_Extended_Spectogram/Amir_spectogram/kbinqywh.png\n",
      "/kaggle/input/sound-train-extended2/Playlist_Extended_Spectogram/Amir_spectogram/bwcrykgj.png\n",
      "/kaggle/input/sound-train-extended2/Playlist_Extended_Spectogram/Amir_spectogram/bsuyeqdi.png\n",
      "/kaggle/input/sound-train-extended2/Playlist_Extended_Spectogram/Akshay_spectogram/hlyexuyt.png\n",
      "/kaggle/input/sound-train-extended2/Playlist_Extended_Spectogram/Akshay_spectogram/knqoodtf.png\n",
      "/kaggle/input/sound-train-extended2/Playlist_Extended_Spectogram/Akshay_spectogram/zexdutqm.png\n",
      "/kaggle/input/sound-train-extended2/Playlist_Extended_Spectogram/Akshay_spectogram/ccdrrwcc.png\n",
      "/kaggle/input/sound-train-extended2/Playlist_Extended_Spectogram/Akshay_spectogram/zhyiqpqn.png\n",
      "/kaggle/input/sound-train-extended2/Playlist_Extended_Spectogram/Akshay_spectogram/tyxllctx.png\n",
      "/kaggle/input/sound-train-extended2/Playlist_Extended_Spectogram/Akshay_spectogram/zpcvyliu.png\n",
      "/kaggle/input/sound-train-extended2/Playlist_Extended_Spectogram/Akshay_spectogram/avocovfb.png\n",
      "/kaggle/input/sound-train-extended2/Playlist_Extended_Spectogram/Akshay_spectogram/axqxctdi.png\n",
      "/kaggle/input/sound-train-extended2/Playlist_Extended_Spectogram/Akshay_spectogram/dkwiemgm.png\n",
      "/kaggle/input/sound-train-extended2/Playlist_Extended_Spectogram/Akshay_spectogram/ytvwjeyt.png\n",
      "/kaggle/input/sound-train-extended2/Playlist_Extended_Spectogram/Akshay_spectogram/ngmqvxkh.png\n",
      "/kaggle/input/sound-train-extended2/Playlist_Extended_Spectogram/Akshay_spectogram/dhfsjppr.png\n",
      "/kaggle/input/sound-train-extended2/Playlist_Extended_Spectogram/Akshay_spectogram/rfkedeeg.png\n",
      "/kaggle/input/sound-train-extended2/Playlist_Extended_Spectogram/Akshay_spectogram/wbyogcpr.png\n",
      "/kaggle/input/sound-train-extended2/Playlist_Extended_Spectogram/Akshay_spectogram/wxvlyroj.png\n",
      "/kaggle/input/sound-train-extended2/Playlist_Extended_Spectogram/Akshay_spectogram/etuyzrfm.png\n",
      "/kaggle/input/sound-train-extended2/Playlist_Extended_Spectogram/Akshay_spectogram/ypmkooom.png\n",
      "/kaggle/input/sound-train-extended2/Playlist_Extended_Spectogram/Akshay_spectogram/aeiowzig.png\n",
      "/kaggle/input/sound-train-extended2/Playlist_Extended_Spectogram/Akshay_spectogram/okfafquz.png\n",
      "/kaggle/input/sound-train-extended2/Playlist_Extended_Spectogram/Akshay_spectogram/ofvpfxus.png\n",
      "/kaggle/input/sound-train-extended2/Playlist_Extended_Spectogram/Akshay_spectogram/pnpjlflh.png\n",
      "/kaggle/input/sound-train-extended2/Playlist_Extended_Spectogram/Akshay_spectogram/ynswmbxn.png\n",
      "/kaggle/input/sound-train-extended2/Playlist_Extended_Spectogram/Akshay_spectogram/wlgudbcj.png\n",
      "/kaggle/input/sound-train-extended2/Playlist_Extended_Spectogram/Akshay_spectogram/dccsrmom.png\n",
      "/kaggle/input/sound-train-extended2/Playlist_Extended_Spectogram/Akshay_spectogram/coxknczw.png\n",
      "/kaggle/input/sound-train-extended2/Playlist_Extended_Spectogram/Akshay_spectogram/vchgmyqh.png\n",
      "/kaggle/input/sound-train-extended2/Playlist_Extended_Spectogram/Akshay_spectogram/yvywqghw.png\n",
      "/kaggle/input/sound-train-extended2/Playlist_Extended_Spectogram/Akshay_spectogram/vdluaxuz.png\n",
      "/kaggle/input/sound-train-extended2/Playlist_Extended_Spectogram/Akshay_spectogram/sgdxnses.png\n",
      "/kaggle/input/sound-train-extended2/Playlist_Extended_Spectogram/Akshay_spectogram/rfzbvrdf.png\n",
      "/kaggle/input/sound-train-extended2/Playlist_Extended_Spectogram/Akshay_spectogram/ixefscgr.png\n",
      "/kaggle/input/sound-train-extended2/Playlist_Extended_Spectogram/Akshay_spectogram/hserrkzt.png\n",
      "/kaggle/input/sound-train-extended2/Playlist_Extended_Spectogram/Akshay_spectogram/djndvrnk.png\n",
      "/kaggle/input/sound-train-extended2/Playlist_Extended_Spectogram/Akshay_spectogram/rgggcqow.png\n",
      "/kaggle/input/sound-train-extended2/Playlist_Extended_Spectogram/Akshay_spectogram/pfazufqr.png\n",
      "/kaggle/input/sound-train-extended2/Playlist_Extended_Spectogram/Akshay_spectogram/omduadjt.png\n",
      "/kaggle/input/sound-train-extended2/Playlist_Extended_Spectogram/Salman_spectogram/qvejwtxl.png\n",
      "/kaggle/input/sound-train-extended2/Playlist_Extended_Spectogram/Salman_spectogram/fzwufmli.png\n",
      "/kaggle/input/sound-train-extended2/Playlist_Extended_Spectogram/Salman_spectogram/klripgoq.png\n",
      "/kaggle/input/sound-train-extended2/Playlist_Extended_Spectogram/Salman_spectogram/ddqmleor.png\n",
      "/kaggle/input/sound-train-extended2/Playlist_Extended_Spectogram/Salman_spectogram/femiyydo.png\n",
      "/kaggle/input/sound-train-extended2/Playlist_Extended_Spectogram/Salman_spectogram/ohkwesgm.png\n",
      "/kaggle/input/sound-train-extended2/Playlist_Extended_Spectogram/Salman_spectogram/hrinkhfy.png\n",
      "/kaggle/input/sound-train-extended2/Playlist_Extended_Spectogram/Salman_spectogram/rpbbhhyk.png\n",
      "/kaggle/input/sound-train-extended2/Playlist_Extended_Spectogram/Salman_spectogram/gwjjcbgx.png\n",
      "/kaggle/input/sound-train-extended2/Playlist_Extended_Spectogram/Salman_spectogram/yaformdh.png\n",
      "/kaggle/input/sound-train-extended2/Playlist_Extended_Spectogram/Salman_spectogram/lwgggach.png\n",
      "/kaggle/input/sound-train-extended2/Playlist_Extended_Spectogram/Salman_spectogram/lmthtekf.png\n",
      "/kaggle/input/sound-train-extended2/Playlist_Extended_Spectogram/Salman_spectogram/ypjnqgaz.png\n",
      "/kaggle/input/sound-train-extended2/Playlist_Extended_Spectogram/Salman_spectogram/bduwabbx.png\n",
      "/kaggle/input/sound-train-extended2/Playlist_Extended_Spectogram/Salman_spectogram/skifwwkq.png\n",
      "/kaggle/input/sound-train-extended2/Playlist_Extended_Spectogram/Salman_spectogram/oypictpg.png\n",
      "/kaggle/input/sound-train-extended2/Playlist_Extended_Spectogram/Salman_spectogram/tukiikdl.png\n",
      "/kaggle/input/sound-train-extended2/Playlist_Extended_Spectogram/Salman_spectogram/wtnwjjhn.png\n",
      "/kaggle/input/sound-train-extended2/Playlist_Extended_Spectogram/Salman_spectogram/nmdvbjff.png\n",
      "/kaggle/input/sound-train-extended2/Playlist_Extended_Spectogram/Salman_spectogram/gcrhockv.png\n",
      "/kaggle/input/sound-train-extended2/Playlist_Extended_Spectogram/Salman_spectogram/rlgquegi.png\n",
      "/kaggle/input/sound-train-extended2/Playlist_Extended_Spectogram/Salman_spectogram/gnamwwgn.png\n",
      "/kaggle/input/sound-train-extended2/Playlist_Extended_Spectogram/Salman_spectogram/uvyyolmi.png\n",
      "/kaggle/input/sound-train-extended2/Playlist_Extended_Spectogram/Salman_spectogram/kfqijrgi.png\n",
      "/kaggle/input/sound-train-extended2/Playlist_Extended_Spectogram/Salman_spectogram/unvmjqxe.png\n",
      "/kaggle/input/sound-train-extended2/Playlist_Extended_Spectogram/Salman_spectogram/acsqpmxf.png\n",
      "/kaggle/input/sound-train-extended2/Playlist_Extended_Spectogram/Salman_spectogram/dsiqwlai.png\n",
      "/kaggle/input/sound-train-extended2/Playlist_Extended_Spectogram/Salman_spectogram/hazothaa.png\n",
      "/kaggle/input/sound-train-extended2/Playlist_Extended_Spectogram/Salman_spectogram/cbuikifi.png\n",
      "/kaggle/input/sound-train-extended2/Playlist_Extended_Spectogram/Salman_spectogram/zqfxiitr.png\n",
      "/kaggle/input/sound-train-extended2/Playlist_Extended_Spectogram/Salman_spectogram/jkqnjtjj.png\n",
      "/kaggle/input/sound-train-extended2/Playlist_Extended_Spectogram/Salman_spectogram/ftatyziz.png\n",
      "/kaggle/input/sound-train-extended2/Playlist_Extended_Spectogram/Salman_spectogram/wnjlbgnv.png\n",
      "/kaggle/input/sound-train-extended2/Playlist_Extended_Spectogram/Salman_spectogram/qtwonwru.png\n",
      "/kaggle/input/sound-train-extended2/Playlist_Extended_Spectogram/Salman_spectogram/mqmrisdg.png\n",
      "/kaggle/input/sound-train-extended2/Playlist_Extended_Spectogram/Salman_spectogram/jcmhuqnc.png\n",
      "/kaggle/input/sound-train-extended2/Playlist_Extended_Spectogram/Salman_spectogram/ubiccnxy.png\n",
      "/kaggle/input/sound-train-extended2/Playlist_Extended_Spectogram/Modi_spectogram/ateychhf.png\n",
      "/kaggle/input/sound-train-extended2/Playlist_Extended_Spectogram/Modi_spectogram/khbuyyrp.png\n",
      "/kaggle/input/sound-train-extended2/Playlist_Extended_Spectogram/Modi_spectogram/opitfmtj.png\n",
      "/kaggle/input/sound-train-extended2/Playlist_Extended_Spectogram/Modi_spectogram/iszvyrbx.png\n",
      "/kaggle/input/sound-train-extended2/Playlist_Extended_Spectogram/Modi_spectogram/uluxvwif.png\n",
      "/kaggle/input/sound-train-extended2/Playlist_Extended_Spectogram/Modi_spectogram/waqdjaoa.png\n",
      "/kaggle/input/sound-train-extended2/Playlist_Extended_Spectogram/Modi_spectogram/ickgqxux.png\n",
      "/kaggle/input/sound-train-extended2/Playlist_Extended_Spectogram/Modi_spectogram/hxcjaujo.png\n",
      "/kaggle/input/sound-train-extended2/Playlist_Extended_Spectogram/Modi_spectogram/oeqquqnq.png\n",
      "/kaggle/input/sound-train-extended2/Playlist_Extended_Spectogram/Modi_spectogram/ivqnjigw.png\n",
      "/kaggle/input/sound-train-extended2/Playlist_Extended_Spectogram/Modi_spectogram/vqmqotrl.png\n",
      "/kaggle/input/sound-train-extended2/Playlist_Extended_Spectogram/Modi_spectogram/emkvpshv.png\n",
      "/kaggle/input/sound-train-extended2/Playlist_Extended_Spectogram/Modi_spectogram/nmayjvux.png\n",
      "/kaggle/input/sound-train-extended2/Playlist_Extended_Spectogram/Modi_spectogram/tzwachom.png\n",
      "/kaggle/input/sound-train-extended2/Playlist_Extended_Spectogram/Modi_spectogram/aiuujxqg.png\n",
      "/kaggle/input/sound-train-extended2/Playlist_Extended_Spectogram/Modi_spectogram/xeczsrnh.png\n",
      "/kaggle/input/sound-train-extended2/Playlist_Extended_Spectogram/Modi_spectogram/dkpbgenw.png\n",
      "/kaggle/input/sound-train-extended2/Playlist_Extended_Spectogram/Modi_spectogram/dwlbiaww.png\n",
      "/kaggle/input/sound-train-extended2/Playlist_Extended_Spectogram/Modi_spectogram/qrbylahf.png\n",
      "/kaggle/input/sound-train-extended2/Playlist_Extended_Spectogram/Modi_spectogram/ketaisdk.png\n",
      "/kaggle/input/sound-train-extended2/Playlist_Extended_Spectogram/Modi_spectogram/wuijtbsx.png\n",
      "/kaggle/input/sound-train-extended2/Playlist_Extended_Spectogram/Modi_spectogram/auaprhdr.png\n",
      "/kaggle/input/sound-train-extended2/Playlist_Extended_Spectogram/Modi_spectogram/zyxyjnxa.png\n",
      "/kaggle/input/sound-train-extended2/Playlist_Extended_Spectogram/Modi_spectogram/ypwsxwtw.png\n",
      "/kaggle/input/sound-train-extended2/Playlist_Extended_Spectogram/Modi_spectogram/kjweccej.png\n",
      "/kaggle/input/sound-train-extended2/Playlist_Extended_Spectogram/Modi_spectogram/qngljwpp.png\n",
      "/kaggle/input/sound-train-extended2/Playlist_Extended_Spectogram/Modi_spectogram/dqmhvvsl.png\n",
      "/kaggle/input/sound-train-extended2/Playlist_Extended_Spectogram/Modi_spectogram/dgsgbksn.png\n",
      "/kaggle/input/sound-train-extended2/Playlist_Extended_Spectogram/Modi_spectogram/dhxhfnei.png\n",
      "/kaggle/input/sound-train-extended2/Playlist_Extended_Spectogram/Modi_spectogram/eefoyude.png\n",
      "/kaggle/input/sound-train-extended2/Playlist_Extended_Spectogram/Modi_spectogram/ldbhkukm.png\n",
      "/kaggle/input/sound-train-extended2/Playlist_Extended_Spectogram/Modi_spectogram/fwiademm.png\n",
      "/kaggle/input/sound-train-extended2/Playlist_Extended_Spectogram/Modi_spectogram/kvdpovpp.png\n",
      "/kaggle/input/sound-train-extended2/Playlist_Extended_Spectogram/Modi_spectogram/kerliopc.png\n",
      "/kaggle/input/sound-train-extended2/Playlist_Extended_Spectogram/Modi_spectogram/qdzvkafw.png\n",
      "/kaggle/input/sound-train-extended2/Playlist_Extended_Spectogram/Modi_spectogram/rwbpsgff.png\n",
      "/kaggle/input/sound-train-extended2/Playlist_Extended_Spectogram/Modi_spectogram/easjgfoy.png\n",
      "/kaggle/input/sound-train-extended2/Playlist_Extended_Spectogram/Srk_spectogram/rbgeklxc.png\n",
      "/kaggle/input/sound-train-extended2/Playlist_Extended_Spectogram/Srk_spectogram/yanoukpr.png\n",
      "/kaggle/input/sound-train-extended2/Playlist_Extended_Spectogram/Srk_spectogram/nwdncyih.png\n",
      "/kaggle/input/sound-train-extended2/Playlist_Extended_Spectogram/Srk_spectogram/qycgneba.png\n",
      "/kaggle/input/sound-train-extended2/Playlist_Extended_Spectogram/Srk_spectogram/unaztlck.png\n",
      "/kaggle/input/sound-train-extended2/Playlist_Extended_Spectogram/Srk_spectogram/leaaahzh.png\n",
      "/kaggle/input/sound-train-extended2/Playlist_Extended_Spectogram/Srk_spectogram/ewumtkqg.png\n",
      "/kaggle/input/sound-train-extended2/Playlist_Extended_Spectogram/Srk_spectogram/akyqvyag.png\n",
      "/kaggle/input/sound-train-extended2/Playlist_Extended_Spectogram/Srk_spectogram/tgokwyka.png\n",
      "/kaggle/input/sound-train-extended2/Playlist_Extended_Spectogram/Srk_spectogram/wbsvgblh.png\n",
      "/kaggle/input/sound-train-extended2/Playlist_Extended_Spectogram/Srk_spectogram/mbjqpcyf.png\n",
      "/kaggle/input/sound-train-extended2/Playlist_Extended_Spectogram/Srk_spectogram/ztyjchnv.png\n",
      "/kaggle/input/sound-train-extended2/Playlist_Extended_Spectogram/Srk_spectogram/eexxclxl.png\n",
      "/kaggle/input/sound-train-extended2/Playlist_Extended_Spectogram/Srk_spectogram/npinpvqc.png\n",
      "/kaggle/input/sound-train-extended2/Playlist_Extended_Spectogram/Srk_spectogram/frwlosrp.png\n",
      "/kaggle/input/sound-train-extended2/Playlist_Extended_Spectogram/Srk_spectogram/vriudhyy.png\n",
      "/kaggle/input/sound-train-extended2/Playlist_Extended_Spectogram/Srk_spectogram/bstjkdud.png\n",
      "/kaggle/input/sound-train-extended2/Playlist_Extended_Spectogram/Srk_spectogram/ennwdlgm.png\n",
      "/kaggle/input/sound-train-extended2/Playlist_Extended_Spectogram/Srk_spectogram/dgybolup.png\n",
      "/kaggle/input/sound-train-extended2/Playlist_Extended_Spectogram/Srk_spectogram/whksswfd.png\n",
      "/kaggle/input/sound-train-extended2/Playlist_Extended_Spectogram/Srk_spectogram/vtxrtmek.png\n",
      "/kaggle/input/sound-train-extended2/Playlist_Extended_Spectogram/Srk_spectogram/yqvpcnis.png\n",
      "/kaggle/input/sound-train-extended2/Playlist_Extended_Spectogram/Srk_spectogram/mtgmcflp.png\n",
      "/kaggle/input/sound-train-extended2/Playlist_Extended_Spectogram/Srk_spectogram/qckthjjp.png\n",
      "/kaggle/input/sound-train-extended2/Playlist_Extended_Spectogram/Srk_spectogram/nkagqmkj.png\n",
      "/kaggle/input/sound-train-extended2/Playlist_Extended_Spectogram/Srk_spectogram/zsxbupfg.png\n",
      "/kaggle/input/sound-train-extended2/Playlist_Extended_Spectogram/Srk_spectogram/zkdngtjg.png\n",
      "/kaggle/input/sound-train-extended2/Playlist_Extended_Spectogram/Srk_spectogram/ddekcitn.png\n",
      "/kaggle/input/sound-train-extended2/Playlist_Extended_Spectogram/Srk_spectogram/wckpclvn.png\n",
      "/kaggle/input/sound-train-extended2/Playlist_Extended_Spectogram/Srk_spectogram/isixrkck.png\n",
      "/kaggle/input/sound-train-extended2/Playlist_Extended_Spectogram/Srk_spectogram/rmzhrfom.png\n",
      "/kaggle/input/sound-train-extended2/Playlist_Extended_Spectogram/Srk_spectogram/agwjfbmc.png\n",
      "/kaggle/input/sound-train-extended2/Playlist_Extended_Spectogram/Srk_spectogram/xrcbmtli.png\n",
      "/kaggle/input/sound-train-extended2/Playlist_Extended_Spectogram/Srk_spectogram/qjiekecr.png\n",
      "/kaggle/input/sound-train-extended2/Playlist_Extended_Spectogram/Srk_spectogram/dxvcrjza.png\n",
      "/kaggle/input/sound-train-extended2/Playlist_Extended_Spectogram/Srk_spectogram/dfqonchs.png\n",
      "/kaggle/input/sound-train-extended2/Playlist_Extended_Spectogram/Srk_spectogram/bpalpwnz.png\n",
      "/kaggle/input/sound-train-extended2/Playlist_Extended_Spectogram/Srk_spectogram/jbxfjria.png\n",
      "/kaggle/input/sound-train-extended2/Playlist_Extended_Spectogram/Srk_spectogram/gdwopwff.png\n",
      "/kaggle/input/sound-train-extended2/Playlist_Extended_Spectogram/Srk_spectogram/wxdmsvti.png\n",
      "/kaggle/input/sound-train-extended2/Playlist_Extended_Spectogram/Srk_spectogram/idnasmbn.png\n",
      "/kaggle/input/sound-train-extended2/Playlist_Extended_Spectogram/Srk_spectogram/jssxjhwv.png\n",
      "/kaggle/input/sound-train-extended2/Playlist_Extended_Spectogram/Srk_spectogram/mihxdtts.png\n"
     ]
    }
   ],
   "source": [
    "# This Python 3 environment comes with many helpful analytics libraries installed\n",
    "# It is defined by the kaggle/python Docker image: https://github.com/kaggle/docker-python\n",
    "# For example, here's several helpful packages to load\n",
    "\n",
    "import numpy as np # linear algebra\n",
    "import pandas as pd # data processing, CSV file I/O (e.g. pd.read_csv)\n",
    "\n",
    "# Input data files are available in the read-only \"../input/\" directory\n",
    "# For example, running this (by clicking run or pressing Shift+Enter) will list all files under the input directory\n",
    "\n",
    "import os\n",
    "for dirname, _, filenames in os.walk('/kaggle/input'):\n",
    "    for filename in filenames:\n",
    "        print(os.path.join(dirname, filename))\n",
    "\n",
    "# You can write up to 5GB to the current directory (/kaggle/working/) that gets preserved as output when you create a version using \"Save & Run All\" \n",
    "# You can also write temporary files to /kaggle/temp/, but they won't be saved outside of the current session"
   ]
  },
  {
   "cell_type": "code",
   "execution_count": 5,
   "metadata": {},
   "outputs": [],
   "source": [
    "%reload_ext autoreload\n",
    "%autoreload 2\n",
    "%matplotlib inline"
   ]
  },
  {
   "cell_type": "code",
   "execution_count": 6,
   "metadata": {},
   "outputs": [],
   "source": [
    "from fastai.vision import *\n",
    "from fastai.metrics import error_rate\n",
    "import fastai"
   ]
  },
  {
   "cell_type": "code",
   "execution_count": 7,
   "metadata": {},
   "outputs": [],
   "source": [
    "# bs = 64\n",
    "bs = 8   "
   ]
  },
  {
   "cell_type": "code",
   "execution_count": 8,
   "metadata": {},
   "outputs": [
    {
     "name": "stdout",
     "output_type": "stream",
     "text": [
      "['sound-model', 'sound-test3', 'spectogramvalidate', 'spectogram-train', 'sound-model-unfreezed', 'sound-train-extended2']\n"
     ]
    }
   ],
   "source": [
    "import os\n",
    "print(os.listdir(\"../input/\"))"
   ]
  },
  {
   "cell_type": "code",
   "execution_count": 9,
   "metadata": {},
   "outputs": [
    {
     "name": "stdout",
     "output_type": "stream",
     "text": [
      "['bin', 'var', 'mnt', 'etc', 'root', 'home', 'tmp', 'lib', 'sbin', 'proc', 'lib64', 'srv', 'boot', 'opt', 'sys', 'media', 'usr', 'run', 'dev', 'kaggle', '.dockerenv', '.jupyter', 'src', 'run_jupyter.sh', 'entrypoint.sh']\n"
     ]
    }
   ],
   "source": [
    "import os\n",
    "print(os.listdir(\"/\"))"
   ]
  },
  {
   "cell_type": "code",
   "execution_count": 12,
   "metadata": {},
   "outputs": [
    {
     "name": "stdout",
     "output_type": "stream",
     "text": [
      "['Amir_spectogram', 'Akshay_spectogram', 'Salman_spectogram', 'Modi_spectogram', 'Srk_spectogram']\n"
     ]
    }
   ],
   "source": [
    "import os\n",
    "print(os.listdir(\"../input/sound-train-extended2/Playlist_Extended_Spectogram/\"))"
   ]
  },
  {
   "cell_type": "code",
   "execution_count": null,
   "metadata": {},
   "outputs": [],
   "source": [
    "print(os.listdir(\"../input/sound-train-extended2/Playlist_Extended_Spectogram/\"))"
   ]
  },
  {
   "cell_type": "code",
   "execution_count": 1,
   "metadata": {},
   "outputs": [
    {
     "name": "stdout",
     "output_type": "stream",
     "text": [
      "ls: ../input/spectogram-train/: No such file or directory\r\n"
     ]
    }
   ],
   "source": [
    "!ls \"../input/spectogram-train/\"\n",
    "\n",
    "\n"
   ]
  },
  {
   "cell_type": "code",
   "execution_count": 2,
   "metadata": {},
   "outputs": [],
   "source": [
    "import pathlib"
   ]
  },
  {
   "cell_type": "code",
   "execution_count": 3,
   "metadata": {},
   "outputs": [],
   "source": [
    "path = pathlib.Path('../input/sound-train-extended2/')"
   ]
  },
  {
   "cell_type": "code",
   "execution_count": 14,
   "metadata": {},
   "outputs": [],
   "source": [
    "path_img = path/'Playlist_Extended_Spectogram/'/'Akshay_spectogram'"
   ]
  },
  {
   "cell_type": "code",
   "execution_count": 15,
   "metadata": {},
   "outputs": [],
   "source": [
    "doc(ImageDataBunch.from_folder)"
   ]
  },
  {
   "cell_type": "code",
   "execution_count": 16,
   "metadata": {},
   "outputs": [
    {
     "data": {
      "text/plain": [
       "['Akshay_spectogram',\n",
       " 'Amir_spectogram',\n",
       " 'Modi_spectogram',\n",
       " 'Salman_spectogram',\n",
       " 'Srk_spectogram']"
      ]
     },
     "execution_count": 16,
     "metadata": {},
     "output_type": "execute_result"
    }
   ],
   "source": [
    "# path_anno = path/'annotations'\n",
    "data = ImageDataBunch.from_folder(path,train = 'Playlist_Extended_Spectogram',ds_tfms=get_transforms(), size=224, bs=bs,valid_pct=0.20\n",
    "                                  ).normalize(imagenet_stats)\n",
    "data.classes"
   ]
  },
  {
   "cell_type": "code",
   "execution_count": 17,
   "metadata": {},
   "outputs": [
    {
     "data": {
      "text/plain": [
       "[PosixPath('../input/sound-train-extended2/Playlist_Extended_Spectogram/Akshay_spectogram/hlyexuyt.png'),\n",
       " PosixPath('../input/sound-train-extended2/Playlist_Extended_Spectogram/Akshay_spectogram/knqoodtf.png'),\n",
       " PosixPath('../input/sound-train-extended2/Playlist_Extended_Spectogram/Akshay_spectogram/zexdutqm.png'),\n",
       " PosixPath('../input/sound-train-extended2/Playlist_Extended_Spectogram/Akshay_spectogram/ccdrrwcc.png'),\n",
       " PosixPath('../input/sound-train-extended2/Playlist_Extended_Spectogram/Akshay_spectogram/zhyiqpqn.png')]"
      ]
     },
     "execution_count": 17,
     "metadata": {},
     "output_type": "execute_result"
    }
   ],
   "source": [
    "fnames = get_image_files(path_img)\n",
    "fnames[:5]"
   ]
  },
  {
   "cell_type": "code",
   "execution_count": null,
   "metadata": {},
   "outputs": [],
   "source": [
    "data.show_batch(rows=4, figsize=(7,6))"
   ]
  },
  {
   "cell_type": "code",
   "execution_count": null,
   "metadata": {},
   "outputs": [],
   "source": [
    "print(data.classes)\n",
    "len(data.classes),data.c"
   ]
  },
  {
   "cell_type": "markdown",
   "metadata": {},
   "source": [
    "## Training: resnet34"
   ]
  },
  {
   "cell_type": "code",
   "execution_count": null,
   "metadata": {},
   "outputs": [],
   "source": [
    "learn = cnn_learner(data, models.resnet34, metrics=[accuracy,error_rate],model_dir=\"/kaggle/working/model/\")"
   ]
  },
  {
   "cell_type": "code",
   "execution_count": null,
   "metadata": {},
   "outputs": [],
   "source": [
    "learn.model"
   ]
  },
  {
   "cell_type": "code",
   "execution_count": null,
   "metadata": {},
   "outputs": [],
   "source": [
    "learn.load('stage-sound-unfreezed');"
   ]
  },
  {
   "cell_type": "code",
   "execution_count": null,
   "metadata": {},
   "outputs": [],
   "source": [
    "learn.unfreeze()"
   ]
  },
  {
   "cell_type": "code",
   "execution_count": null,
   "metadata": {},
   "outputs": [],
   "source": [
    "learn.fit_one_cycle(1)"
   ]
  },
  {
   "cell_type": "code",
   "execution_count": null,
   "metadata": {},
   "outputs": [],
   "source": [
    "learn.lr_find()"
   ]
  },
  {
   "cell_type": "code",
   "execution_count": null,
   "metadata": {},
   "outputs": [],
   "source": [
    "learn.recorder.plot()"
   ]
  },
  {
   "cell_type": "code",
   "execution_count": null,
   "metadata": {},
   "outputs": [],
   "source": [
    "\n",
    "learn.fit_one_cycle(50, max_lr=slice(0.5e-4,0.5e-2))"
   ]
  },
  {
   "cell_type": "code",
   "execution_count": null,
   "metadata": {},
   "outputs": [],
   "source": [
    "saved_path = learn.save('stage-sound-unfreezed',return_path=True)\n",
    "saved_path"
   ]
  },
  {
   "cell_type": "code",
   "execution_count": null,
   "metadata": {},
   "outputs": [],
   "source": [
    "doc(load_learner)"
   ]
  },
  {
   "cell_type": "code",
   "execution_count": null,
   "metadata": {},
   "outputs": [],
   "source": [
    "fastai.__version__"
   ]
  },
  {
   "cell_type": "code",
   "execution_count": null,
   "metadata": {},
   "outputs": [],
   "source": [
    "doc(open_image)"
   ]
  },
  {
   "cell_type": "code",
   "execution_count": null,
   "metadata": {},
   "outputs": [],
   "source": [
    "!ls ../input/spectogramvalidate/Playlist_old_Spectogram\n"
   ]
  },
  {
   "cell_type": "code",
   "execution_count": null,
   "metadata": {},
   "outputs": [],
   "source": [
    "doc(ClassificationInterpretation.from_learner)"
   ]
  },
  {
   "cell_type": "code",
   "execution_count": null,
   "metadata": {},
   "outputs": [],
   "source": [
    "interp = ClassificationInterpretation.from_learner(learn)\n",
    "interp.plot_confusion_matrix(figsize=(12,12), dpi=60)"
   ]
  },
  {
   "cell_type": "code",
   "execution_count": null,
   "metadata": {},
   "outputs": [],
   "source": [
    "root = pathlib.Path('../input/sound-test3/Playlist_Test_Spectogram/')"
   ]
  },
  {
   "cell_type": "code",
   "execution_count": null,
   "metadata": {},
   "outputs": [],
   "source": [
    "for path, subdirs, files in os.walk(root):\n",
    "        for name in files:\n",
    "            print(path)\n",
    "#             print(name)\n",
    "            path_img = os.path.join(path, name)\n",
    "            img_test = open_image(path_img)\n",
    "#             print(path_img)\n",
    "            res = learn.predict(img_test)\n",
    "            print(res[0],res[1])\n",
    "            for index,v in enumerate(res[2]):\n",
    "                print(data.classes[index],v)\n",
    "            print('\\n')"
   ]
  }
 ],
 "metadata": {
  "kernelspec": {
   "display_name": "Python 3",
   "language": "python",
   "name": "python3"
  },
  "language_info": {
   "codemirror_mode": {
    "name": "ipython",
    "version": 3
   },
   "file_extension": ".py",
   "mimetype": "text/x-python",
   "name": "python",
   "nbconvert_exporter": "python",
   "pygments_lexer": "ipython3",
   "version": "3.7.4"
  }
 },
 "nbformat": 4,
 "nbformat_minor": 4
}
